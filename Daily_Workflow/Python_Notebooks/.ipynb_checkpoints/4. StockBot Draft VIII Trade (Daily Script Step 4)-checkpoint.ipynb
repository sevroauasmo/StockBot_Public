{
 "cells": [
  {
   "cell_type": "markdown",
   "id": "accbe16a-dc08-4182-83c0-518f8d6f60a3",
   "metadata": {},
   "source": [
    "## Automated Trading- Buy new predicted stocks over certain %, sell ones that we've had for the duration of maturity period"
   ]
  },
  {
   "cell_type": "code",
   "execution_count": 1,
   "id": "be02ea4e-96d5-458e-8f0c-7c2199f33b9a",
   "metadata": {
    "execution": {
     "iopub.execute_input": "2024-08-28T08:29:35.710006Z",
     "iopub.status.busy": "2024-08-28T08:29:35.709715Z",
     "iopub.status.idle": "2024-08-28T08:29:35.721475Z",
     "shell.execute_reply": "2024-08-28T08:29:35.720802Z"
    }
   },
   "outputs": [],
   "source": [
    "# access most recently saved directory from the previous step\n",
    "file_path = \"/Users/rileybitterli/Documents/GitHub/SB_VIII_Streamlined/Daily_Workflow/Temp_Files/step_3_to_4.txt\"\n",
    "\n",
    "# read the file and store its contents in a variable\n",
    "with open(file_path, \"r\") as file:\n",
    "    csv_path = file.read()"
   ]
  },
  {
   "cell_type": "code",
   "execution_count": 1,
   "id": "3d394e61-1588-4104-9489-c50863738e36",
   "metadata": {},
   "outputs": [],
   "source": [
    "import pandas as pd\n",
    "import numpy as np\n",
    "import robin_stocks.robinhood as rh\n",
    "import os\n",
    "import math\n"
   ]
  },
  {
   "cell_type": "code",
   "execution_count": 3,
   "id": "cb1b3a89-4621-4691-a14f-3ae5d33cf3b7",
   "metadata": {
    "execution": {
     "iopub.execute_input": "2024-08-28T08:29:36.034435Z",
     "iopub.status.busy": "2024-08-28T08:29:36.034328Z",
     "iopub.status.idle": "2024-08-28T08:29:36.037017Z",
     "shell.execute_reply": "2024-08-28T08:29:36.036832Z"
    }
   },
   "outputs": [],
   "source": [
    "last_prediction_batch = pd.read_csv(csv_path)"
   ]
  },
  {
   "cell_type": "code",
   "execution_count": 4,
   "id": "f5a8152d-172c-4c12-81d2-af840e47c1d7",
   "metadata": {
    "execution": {
     "iopub.execute_input": "2024-08-28T08:29:36.038220Z",
     "iopub.status.busy": "2024-08-28T08:29:36.038143Z",
     "iopub.status.idle": "2024-08-28T08:29:36.039699Z",
     "shell.execute_reply": "2024-08-28T08:29:36.039480Z"
    }
   },
   "outputs": [],
   "source": [
    "unique_tickers = last_prediction_batch['ticker'].unique()"
   ]
  },
  {
   "cell_type": "code",
   "execution_count": 5,
   "id": "5bdd1925-e1c1-40a1-941e-f5cb52b247cf",
   "metadata": {
    "execution": {
     "iopub.execute_input": "2024-08-28T08:29:36.040978Z",
     "iopub.status.busy": "2024-08-28T08:29:36.040896Z",
     "iopub.status.idle": "2024-08-28T08:29:36.042390Z",
     "shell.execute_reply": "2024-08-28T08:29:36.042204Z"
    }
   },
   "outputs": [],
   "source": [
    "test = unique_tickers[:2]"
   ]
  },
  {
   "cell_type": "code",
   "execution_count": 6,
   "id": "25231c8a-7564-4e50-8fe5-ed43a7d802ba",
   "metadata": {
    "execution": {
     "iopub.execute_input": "2024-08-28T08:29:36.043407Z",
     "iopub.status.busy": "2024-08-28T08:29:36.043339Z",
     "iopub.status.idle": "2024-08-28T08:29:36.045801Z",
     "shell.execute_reply": "2024-08-28T08:29:36.045624Z"
    }
   },
   "outputs": [
    {
     "data": {
      "text/plain": [
       "array([], dtype=object)"
      ]
     },
     "execution_count": 6,
     "metadata": {},
     "output_type": "execute_result"
    }
   ],
   "source": [
    "test"
   ]
  },
  {
   "cell_type": "code",
   "execution_count": 7,
   "id": "be6462d1-5f22-4211-9534-a458d0ea41fd",
   "metadata": {
    "execution": {
     "iopub.execute_input": "2024-08-28T08:29:36.046830Z",
     "iopub.status.busy": "2024-08-28T08:29:36.046759Z",
     "iopub.status.idle": "2024-08-28T08:29:36.199565Z",
     "shell.execute_reply": "2024-08-28T08:29:36.199323Z"
    }
   },
   "outputs": [
    {
     "name": "stdout",
     "output_type": "stream",
     "text": [
      "Market is open today.\n"
     ]
    }
   ],
   "source": [
    "#see if market's open\n",
    "from datetime import datetime\n",
    "import pandas_market_calendars as mcal\n",
    "\n",
    "def is_market_open():\n",
    "    # Check if today is a weekend\n",
    "    today = datetime.now()\n",
    "    if today.weekday() >= 5:  # 0 is Monday, 6 is Sunday\n",
    "        return False\n",
    "\n",
    "    # Check if today is a public holiday\n",
    "    # Using NYSE calendar as an example\n",
    "    nyse = mcal.get_calendar('NYSE')\n",
    "    market_open_days = nyse.valid_days(start_date=today, end_date=today)\n",
    "\n",
    "    return len(market_open_days) > 0\n",
    "\n",
    "if is_market_open():\n",
    "    print(\"Market is open today.\")\n",
    "    # Place your trading script logic here\n",
    "else:\n",
    "    print(\"Market is closed today.\")\n"
   ]
  },
  {
   "cell_type": "code",
   "execution_count": 2,
   "id": "ab3763b3-c3e1-4ed0-a979-7400ef5c3a06",
   "metadata": {},
   "outputs": [
    {
     "data": {
      "text/plain": [
       "{'access_token': 'eyJhbGciOiJSUzI1NiIsInR5cCI6IkpXVCJ9.eyJkY3QiOjE3MTkzNzE1NTcsImRldmljZV9oYXNoIjoiYmZkNGFjYWRkMjg0MzhmYWFmZjMwOTc2ZWIzNDg1MDQiLCJleHAiOjE3MjUyOTU2MDksImxldmVsMl9hY2Nlc3MiOmZhbHNlLCJtZXRhIjp7Im9pZCI6ImM4MlNIMFdaT3NhYk9YR1Ayc3hxY2ozNEZ4a3ZmbldSWkJLbEJqRlMiLCJvbiI6IlJvYmluaG9vZCJ9LCJvcHRpb25zIjp0cnVlLCJzY29wZSI6ImludGVybmFsIiwic2VydmljZV9yZWNvcmRzIjpbeyJoYWx0ZWQiOmZhbHNlLCJzZXJ2aWNlIjoibnVtbXVzX3VzIiwic2hhcmRfaWQiOjEsInN0YXRlIjoiYXZhaWxhYmxlIn0seyJoYWx0ZWQiOmZhbHNlLCJzZXJ2aWNlIjoiYnJva2ViYWNrX3VzIiwic2hhcmRfaWQiOjQsInN0YXRlIjoiYXZhaWxhYmxlIn1dLCJzbGciOjEsInNscyI6IlBVVnRhRlF1MzdMOTc4V2dSbzBjYW1Gb0p5eE9JM1VHQ2NaYjIrTjE4L0J6OGpKOEpVRS9nc2FNK2xaVER5dEp2a3Q3M0pIek9GLzMycm5xZVBnMUFnPT0iLCJzcm0iOnsiYiI6eyJobCI6ZmFsc2UsInIiOiJ1cyIsInNpZCI6NH0sIm4iOnsiaGwiOmZhbHNlLCJyIjoidXMiLCJzaWQiOjF9fSwidG9rZW4iOiJWeHc1UEl3Z3FaNVdhUW1NTmxnQzdEdXZQVThWVzgiLCJ1c2VyX2lkIjoiYWU3NWQ3ZDctMDg0MC00YTdiLWE5MmItYzNkMWYwNTkxZTM3IiwidXNlcl9vcmlnaW4iOiJVUyJ9.P8lTfuusJqu0b9mzTQZjH6LO14-nbRSBDbchk9u1v0JWNdVfuBrDC-U4F50k-8Q0xW1XzcdwP5P3qg5lI7fQdS4vjQxcH7EKL8IRy4VBbFSVaGz5wd4CyoNvtq35hJyx1TZCQHoJEOaJwKNQg2QzaWyO6bwVESVSKTDGHDT1-tze8ksodbEXhOOJJqOVPGD0RBUjGXQ6TOF2xvy1d0T0IFbJE3otLiWboPMiycRSG3NQZDzTMc-UtGyFuBoPAn6GPoZGt9j9WfgFPuUe8O3kbQFpIoVjVszgqSMUcXPRjFPDSqGZXSpDbiJZsnLxTVCjA149HN3OOaY2RdkML69Y0A',\n",
       " 'token_type': 'Bearer',\n",
       " 'expires_in': 86400,\n",
       " 'scope': 'internal',\n",
       " 'detail': 'logged in using authentication in robinhood.pickle',\n",
       " 'backup_code': None,\n",
       " 'refresh_token': 'ymvJFv4xrukVPLWpw0c1CfdjD2JtWk'}"
      ]
     },
     "execution_count": 2,
     "metadata": {},
     "output_type": "execute_result"
    }
   ],
   "source": [
    "import pyotp \n",
    "#totp = pyotp.TOTP('[insert your pyotp details]').now()\n",
    "#rh.login([insert_your_robinhood_email], [insert_your_robinhood_password], mfa_code=totp)"
   ]
  },
  {
   "cell_type": "code",
   "execution_count": 9,
   "id": "e1d54efd-fc22-4588-875b-142893e8cff4",
   "metadata": {
    "execution": {
     "iopub.execute_input": "2024-08-28T08:29:36.862881Z",
     "iopub.status.busy": "2024-08-28T08:29:36.862673Z",
     "iopub.status.idle": "2024-08-28T08:29:36.867209Z",
     "shell.execute_reply": "2024-08-28T08:29:36.866611Z"
    }
   },
   "outputs": [
    {
     "data": {
      "text/plain": [
       "'858406'"
      ]
     },
     "execution_count": 9,
     "metadata": {},
     "output_type": "execute_result"
    }
   ],
   "source": [
    "totp"
   ]
  },
  {
   "cell_type": "markdown",
   "id": "f6987eaa-5631-43b9-98ca-094b702fe193",
   "metadata": {},
   "source": [
    "## Get all actively open positions"
   ]
  },
  {
   "cell_type": "code",
   "execution_count": 10,
   "id": "42bd6934-6bae-4489-be76-20fb16262e9b",
   "metadata": {
    "execution": {
     "iopub.execute_input": "2024-08-28T08:29:36.870306Z",
     "iopub.status.busy": "2024-08-28T08:29:36.870020Z",
     "iopub.status.idle": "2024-08-28T08:29:36.975176Z",
     "shell.execute_reply": "2024-08-28T08:29:36.974385Z"
    }
   },
   "outputs": [],
   "source": [
    "open_positions = rh.account.get_open_stock_positions()\n",
    "open_position_tickers = []\n",
    "\n",
    "# Retrieve ticker symbols for open positions\n",
    "for position in open_positions:\n",
    "    instrument_url = position['instrument']\n",
    "    stock_info = rh.stocks.get_instrument_by_url(instrument_url)\n",
    "    ticker_symbol = stock_info['symbol']\n",
    "    open_position_tickers.append(ticker_symbol)"
   ]
  },
  {
   "cell_type": "code",
   "execution_count": 11,
   "id": "3937bfc2-a7b4-4574-94ac-ee0074c02f03",
   "metadata": {
    "execution": {
     "iopub.execute_input": "2024-08-28T08:29:36.979431Z",
     "iopub.status.busy": "2024-08-28T08:29:36.979117Z",
     "iopub.status.idle": "2024-08-28T08:29:36.988481Z",
     "shell.execute_reply": "2024-08-28T08:29:36.987608Z"
    }
   },
   "outputs": [],
   "source": [
    "# get details for all open positions\n",
    "\n",
    "def get_purchase_details_for_position(position):\n",
    "    instrument_url = position['instrument']\n",
    "    ticker = rh.stocks.get_symbol_by_url(instrument_url)\n",
    "    orders = rh.get_all_stock_orders()\n",
    "    \n",
    "    purchase_price = None\n",
    "    purchase_date = None\n",
    "\n",
    "    for order in orders:\n",
    "        if order['side'] == 'buy' and order['instrument'] == instrument_url:\n",
    "            if order['average_price'] is not None:\n",
    "                purchase_price = float(order['average_price'])\n",
    "                purchase_date = datetime.fromisoformat(order['created_at']).date()\n",
    "                break\n",
    "\n",
    "    # handle the case where purchase_price or purchase_date is not available\n",
    "    if purchase_price is None or purchase_date is None:\n",
    "        return {\n",
    "            'ticker': ticker,\n",
    "            'purchase_date': np.NaN,\n",
    "            'purchase_price': np.NaN,\n",
    "            'quantity': np.NaN,\n",
    "            'current_profit_or_loss': np.NaN,\n",
    "        }\n",
    "\n",
    "    current_price = float(rh.stocks.get_latest_price(ticker)[0])\n",
    "    quantity = float(position['quantity'])\n",
    "\n",
    "    profit_or_loss = (current_price - purchase_price) * quantity\n",
    "\n",
    "    return {\n",
    "        'ticker': ticker,\n",
    "        'purchase_date': purchase_date,\n",
    "        'purchase_price': purchase_price,\n",
    "        'quantity': quantity,\n",
    "        'current_profit_or_loss': profit_or_loss\n",
    "        \n",
    "    }\n",
    "\n",
    "\n",
    "# Get purchase details for each open position\n",
    "purchase_details = [get_purchase_details_for_position(position) for position in open_positions]\n",
    "\n",
    "current_position_df = pd.DataFrame(purchase_details)"
   ]
  },
  {
   "cell_type": "code",
   "execution_count": 12,
   "id": "9daa4d07-5f60-4ebb-923b-167826318410",
   "metadata": {
    "execution": {
     "iopub.execute_input": "2024-08-28T08:29:36.992527Z",
     "iopub.status.busy": "2024-08-28T08:29:36.991990Z",
     "iopub.status.idle": "2024-08-28T08:29:36.999908Z",
     "shell.execute_reply": "2024-08-28T08:29:36.999258Z"
    }
   },
   "outputs": [
    {
     "data": {
      "text/html": [
       "<div>\n",
       "<style scoped>\n",
       "    .dataframe tbody tr th:only-of-type {\n",
       "        vertical-align: middle;\n",
       "    }\n",
       "\n",
       "    .dataframe tbody tr th {\n",
       "        vertical-align: top;\n",
       "    }\n",
       "\n",
       "    .dataframe thead th {\n",
       "        text-align: right;\n",
       "    }\n",
       "</style>\n",
       "<table border=\"1\" class=\"dataframe\">\n",
       "  <thead>\n",
       "    <tr style=\"text-align: right;\">\n",
       "      <th></th>\n",
       "    </tr>\n",
       "  </thead>\n",
       "  <tbody>\n",
       "  </tbody>\n",
       "</table>\n",
       "</div>"
      ],
      "text/plain": [
       "Empty DataFrame\n",
       "Columns: []\n",
       "Index: []"
      ]
     },
     "execution_count": 12,
     "metadata": {},
     "output_type": "execute_result"
    }
   ],
   "source": [
    "current_position_df"
   ]
  },
  {
   "cell_type": "markdown",
   "id": "c103cf63-1b20-475a-9ce5-c52a4e253729",
   "metadata": {},
   "source": [
    "## See if we should sell, and if so, add a flag to the dataframe"
   ]
  },
  {
   "cell_type": "code",
   "execution_count": 13,
   "id": "0f0a5b37-81b1-42d2-8ae1-d780a4f1fcab",
   "metadata": {
    "execution": {
     "iopub.execute_input": "2024-08-28T08:29:37.003366Z",
     "iopub.status.busy": "2024-08-28T08:29:37.003093Z",
     "iopub.status.idle": "2024-08-28T08:29:37.009767Z",
     "shell.execute_reply": "2024-08-28T08:29:37.009355Z"
    }
   },
   "outputs": [
    {
     "name": "stdout",
     "output_type": "stream",
     "text": [
      "current_position_df is empty, skipping\n"
     ]
    }
   ],
   "source": [
    "import pandas as pd\n",
    "import numpy as np\n",
    "from datetime import datetime, timedelta\n",
    "\n",
    "def calculate_sell_criteria(row, days_held=30, loss_threshold=-0.3):\n",
    "    \"\"\"\n",
    "    Calculate the number of days since purchase and determine if a stock should be sold.\n",
    "    Parameters: \n",
    "    param row: A row from the DataFrame.\n",
    "    param days_held: The number of days to hold before considering selling.\n",
    "    param loss_threshold: The loss threshold to trigger a sell.\n",
    "    return: Tuple with number of days since purchase and should_sell flag.\n",
    "    \"\"\"\n",
    "    try:\n",
    "        purchase_date = datetime.strptime(str(row['purchase_date']), '%Y-%m-%d')\n",
    "        current_price = float(row['current_profit_or_loss']) / row['quantity'] + row['purchase_price']\n",
    "        days_since_purchase = (datetime.now() - purchase_date).days\n",
    "\n",
    "        should_sell = False\n",
    "        if days_since_purchase >= days_held:\n",
    "            should_sell = True\n",
    "        elif (current_price - row['purchase_price']) / row['purchase_price'] <= loss_threshold:\n",
    "            should_sell = True\n",
    "\n",
    "        return days_since_purchase, should_sell\n",
    "\n",
    "    except (TypeError, ValueError):\n",
    "        return np.NaN, np.NaN\n",
    "\n",
    "# apply the combined function and create new columns\n",
    "if not current_position_df.empty:\n",
    "    current_position_df[['days_since_purchase', 'should_sell']] = current_position_df.apply(\n",
    "        lambda row: pd.Series(calculate_sell_criteria(row)), axis=1)\n",
    "    print(current_position_df)\n",
    "else:\n",
    "    print(\"current_position_df is empty, skipping\")\n",
    "\n"
   ]
  },
  {
   "cell_type": "code",
   "execution_count": 14,
   "id": "01ff2a7a-40e6-4250-a7d8-9e33ae871b78",
   "metadata": {
    "execution": {
     "iopub.execute_input": "2024-08-28T08:29:37.012198Z",
     "iopub.status.busy": "2024-08-28T08:29:37.012024Z",
     "iopub.status.idle": "2024-08-28T08:29:37.015907Z",
     "shell.execute_reply": "2024-08-28T08:29:37.015507Z"
    },
    "scrolled": true
   },
   "outputs": [
    {
     "data": {
      "text/html": [
       "<div>\n",
       "<style scoped>\n",
       "    .dataframe tbody tr th:only-of-type {\n",
       "        vertical-align: middle;\n",
       "    }\n",
       "\n",
       "    .dataframe tbody tr th {\n",
       "        vertical-align: top;\n",
       "    }\n",
       "\n",
       "    .dataframe thead th {\n",
       "        text-align: right;\n",
       "    }\n",
       "</style>\n",
       "<table border=\"1\" class=\"dataframe\">\n",
       "  <thead>\n",
       "    <tr style=\"text-align: right;\">\n",
       "      <th></th>\n",
       "    </tr>\n",
       "  </thead>\n",
       "  <tbody>\n",
       "  </tbody>\n",
       "</table>\n",
       "</div>"
      ],
      "text/plain": [
       "Empty DataFrame\n",
       "Columns: []\n",
       "Index: []"
      ]
     },
     "execution_count": 14,
     "metadata": {},
     "output_type": "execute_result"
    }
   ],
   "source": [
    "current_position_df"
   ]
  },
  {
   "cell_type": "markdown",
   "id": "487e5248-8040-4b57-a2f4-52252326767e",
   "metadata": {},
   "source": [
    "# This code sells stock marked with the \"should_sell\" flag! only run it if you want to close all those positions!"
   ]
  },
  {
   "cell_type": "code",
   "execution_count": 15,
   "id": "12bd41e9-5fbd-4ecc-9bcf-87bcab519346",
   "metadata": {
    "execution": {
     "iopub.execute_input": "2024-08-28T08:29:37.018046Z",
     "iopub.status.busy": "2024-08-28T08:29:37.017938Z",
     "iopub.status.idle": "2024-08-28T08:29:37.021715Z",
     "shell.execute_reply": "2024-08-28T08:29:37.021404Z"
    }
   },
   "outputs": [
    {
     "name": "stdout",
     "output_type": "stream",
     "text": [
      "Number of different tickers sold: 0\n"
     ]
    }
   ],
   "source": [
    "def sell_stock(ticker, quantity):\n",
    "    \"\"\"\n",
    "    sells all available shares of a given stock at market price.\n",
    "\n",
    "    param ticker: The ticker symbol of the stock to sell.\n",
    "    param quantity: The number of shares to sell.\n",
    "    \"\"\"\n",
    "    try:\n",
    "        sell_order = rh.orders.order_sell_market(ticker, quantity)\n",
    "        return sell_order\n",
    "    except Exception as e:\n",
    "        print(f\"Error selling {ticker}: {e}\")\n",
    "        return None\n",
    "\n",
    "# set to keep track of sold tickers and distinctify them\n",
    "sold_tickers = set()\n",
    "\n",
    "# execute trades for stocks that should be sold\n",
    "for index, row in current_position_df.iterrows():\n",
    "    if row['should_sell']:\n",
    "        ticker = row['ticker']\n",
    "        quantity = row['quantity']\n",
    "        sell_order = sell_stock(ticker, quantity)\n",
    "        if sell_order is not None:\n",
    "            print(f\"Sold {quantity} shares of {ticker}\")\n",
    "            sold_tickers.add(ticker)\n",
    "\n",
    "# print the number of different tickers that were sold\n",
    "print(f\"Number of different tickers sold: {len(sold_tickers)}\")\n"
   ]
  },
  {
   "cell_type": "markdown",
   "id": "a801f88b-9e68-4486-bb22-dc57eb765c12",
   "metadata": {},
   "source": [
    "## Return only the tickers that are not actively already involved in an open position"
   ]
  },
  {
   "cell_type": "code",
   "execution_count": 16,
   "id": "e0ec245f-6ab3-4989-8abb-d8cd2c3fbe5a",
   "metadata": {
    "execution": {
     "iopub.execute_input": "2024-08-28T08:29:37.023681Z",
     "iopub.status.busy": "2024-08-28T08:29:37.023538Z",
     "iopub.status.idle": "2024-08-28T08:29:37.026086Z",
     "shell.execute_reply": "2024-08-28T08:29:37.025783Z"
    }
   },
   "outputs": [
    {
     "name": "stdout",
     "output_type": "stream",
     "text": [
      "[]\n"
     ]
    }
   ],
   "source": [
    "\n",
    "unique_tickers_set = set(unique_tickers)\n",
    "open_position_tickers_set = set(open_position_tickers)\n",
    "\n",
    "# tickers in unique_tickers not in open positions\n",
    "net_new_tickers = list(unique_tickers_set - open_position_tickers_set)\n",
    "\n",
    "print(net_new_tickers)\n"
   ]
  },
  {
   "cell_type": "markdown",
   "id": "4c646ac4-e4aa-4ae1-91af-d22eecccedae",
   "metadata": {},
   "source": [
    "## Define Buying Methodology"
   ]
  },
  {
   "cell_type": "code",
   "execution_count": 17,
   "id": "6b502ee3-d0aa-4cfb-8c79-c4863b060a2f",
   "metadata": {
    "execution": {
     "iopub.execute_input": "2024-08-28T08:29:37.027814Z",
     "iopub.status.busy": "2024-08-28T08:29:37.027692Z",
     "iopub.status.idle": "2024-08-28T08:29:37.032897Z",
     "shell.execute_reply": "2024-08-28T08:29:37.032623Z"
    }
   },
   "outputs": [],
   "source": [
    "import math\n",
    "import smtplib\n",
    "from email.message import EmailMessage\n",
    "\n",
    "def buy_stock(ticker, amount):\n",
    "    try:\n",
    "        current_price = float(rh.stocks.get_latest_price(ticker)[0])\n",
    "        shares_to_buy = math.floor(amount / current_price) - 1\n",
    "        limit_price =  float(round(current_price * 1.07, 2))\n",
    "        print(ticker)\n",
    "        print(current_price)\n",
    "        print(shares_to_buy)\n",
    "\n",
    "        order = rh.orders.order(symbol =ticker, quantity= shares_to_buy, side = 'buy', limitPrice= limit_price, stopPrice= None, timeInForce='gtc')\n",
    "        print(f\"Order placed for {ticker}: {order}\")\n",
    "        return f\"{ticker}: Bought {shares_to_buy} shares at limit price ${limit_price} each\"\n",
    "\n",
    "    except Exception as e:\n",
    "        print(f\"Error placing order for {ticker}: {e}\")\n",
    "        return None\n",
    "\n",
    "def send_email(subject, content):\n",
    "    msg = EmailMessage()\n",
    "    msg.set_content(content)\n",
    "    msg['Subject'] = subject\n",
    "    msg['From'] = 'halpitsstockbot@gmail.com'\n",
    "    msg['To'] = 'riley.bitterli@gmail.com'\n",
    "\n",
    "    server = smtplib.SMTP('smtp.gmail.com', 587)\n",
    "    server.starttls()\n",
    "    #server.login([insert your email address], '[insert your password]')\n",
    "    server.send_message(msg)\n",
    "    server.quit()\n",
    "\n",
    "# list to store purchase details\n",
    "purchase_details = []"
   ]
  },
  {
   "cell_type": "markdown",
   "id": "4d561f4d-20bf-48d8-bf12-86f1deb8dc42",
   "metadata": {},
   "source": [
    "# This Actually Executes Trades! Don't run it unless you'd like to buy some stock"
   ]
  },
  {
   "cell_type": "code",
   "execution_count": 18,
   "id": "e6c8b184-3de2-4ab3-bed2-2c575bdceea0",
   "metadata": {
    "execution": {
     "iopub.execute_input": "2024-08-28T08:29:37.034505Z",
     "iopub.status.busy": "2024-08-28T08:29:37.034426Z",
     "iopub.status.idle": "2024-08-28T08:29:37.036554Z",
     "shell.execute_reply": "2024-08-28T08:29:37.036304Z"
    }
   },
   "outputs": [],
   "source": [
    "for ticker in net_new_tickers:\n",
    "    result = buy_stock(ticker, 100)\n",
    "    if result:\n",
    "        purchase_details.append(result)\n",
    "\n",
    "# send an email with all purchase details\n",
    "if purchase_details:\n",
    "    email_content = \"\\n\".join(purchase_details)\n",
    "    send_email(\"Stock Purchase Summary\", email_content)\n"
   ]
  },
  {
   "cell_type": "code",
   "execution_count": 19,
   "id": "c893fe3d-682b-4a44-8e95-8371f560d17a",
   "metadata": {
    "execution": {
     "iopub.execute_input": "2024-08-28T08:29:37.038020Z",
     "iopub.status.busy": "2024-08-28T08:29:37.037938Z",
     "iopub.status.idle": "2024-08-28T08:29:37.734273Z",
     "shell.execute_reply": "2024-08-28T08:29:37.733369Z"
    }
   },
   "outputs": [],
   "source": [
    "send_email(\"ran\", \"step 4 of daily\")"
   ]
  },
  {
   "cell_type": "markdown",
   "id": "57a62441-48fc-44e8-9cd8-1626a1b8d91a",
   "metadata": {},
   "source": [
    "## Run to cancel all open orders"
   ]
  },
  {
   "cell_type": "code",
   "execution_count": 3,
   "id": "8c09ac8f-42d4-4475-b54e-e279d9284db0",
   "metadata": {},
   "outputs": [
    {
     "name": "stdout",
     "output_type": "stream",
     "text": [
      "All Stock Orders Cancelled\n"
     ]
    },
    {
     "data": {
      "text/plain": [
       "[]"
      ]
     },
     "execution_count": 3,
     "metadata": {},
     "output_type": "execute_result"
    }
   ],
   "source": [
    "#rh.orders.cancel_all_stock_orders()\n"
   ]
  },
  {
   "cell_type": "markdown",
   "id": "639287a4-10c7-4d10-b6c1-4ac6122ea083",
   "metadata": {},
   "source": [
    "## Run to close out all open positions"
   ]
  },
  {
   "cell_type": "code",
   "execution_count": 21,
   "id": "72e16ad5-c07e-4d99-815a-1d33a96076ce",
   "metadata": {
    "execution": {
     "iopub.execute_input": "2024-08-28T08:29:37.745168Z",
     "iopub.status.busy": "2024-08-28T08:29:37.744878Z",
     "iopub.status.idle": "2024-08-28T08:29:37.748364Z",
     "shell.execute_reply": "2024-08-28T08:29:37.747683Z"
    }
   },
   "outputs": [],
   "source": [
    "#open_positions = rh.account.get_open_stock_positions()\n",
    "\n",
    "    #for position in open_positions:\n",
    "        #symbol = rh.stocks.get_symbol_by_url(position['instrument'])\n",
    "        #quantity = float(position['quantity'])\n",
    "\n",
    "        #if quantity > 0:\n",
    "            # place a market sell order for all shares\n",
    "            #try:\n",
    "                #order = rh.orders.order_sell_market(symbol, quantity)\n",
    "                #print(f\"Market sell order placed for {symbol}: {order}\")\n",
    "            #except Exception as e:\n",
    "                #print(f\"Error placing sell order for {symbol}: {e}\")\n"
   ]
  }
 ],
 "metadata": {
  "kernelspec": {
   "display_name": "Python 3 (ipykernel)",
   "language": "python",
   "name": "python3"
  },
  "language_info": {
   "codemirror_mode": {
    "name": "ipython",
    "version": 3
   },
   "file_extension": ".py",
   "mimetype": "text/x-python",
   "name": "python",
   "nbconvert_exporter": "python",
   "pygments_lexer": "ipython3",
   "version": "3.9.0"
  }
 },
 "nbformat": 4,
 "nbformat_minor": 5
}
